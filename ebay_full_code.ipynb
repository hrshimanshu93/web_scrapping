{
 "cells": [
  {
   "cell_type": "code",
   "execution_count": 15,
   "metadata": {},
   "outputs": [],
   "source": [
    "from bs4 import BeautifulSoup\n",
    "import requests\n",
    "import pandas as pd\n",
    "import numpy as np\n",
    "import re\n"
   ]
  },
  {
   "cell_type": "code",
   "execution_count": 16,
   "metadata": {},
   "outputs": [],
   "source": [
    "source = requests.get('https://www.ebay.com/b/Cell-Phones-Smartphones/9355/bn_320094?rt=nc&_pgn=1').text    \n",
    "soup = BeautifulSoup(source, 'lxml')\n",
    "items = soup.find('li', class_='s-item')"
   ]
  },
  {
   "cell_type": "code",
   "execution_count": 17,
   "metadata": {},
   "outputs": [
    {
     "name": "stdout",
     "output_type": "stream",
     "text": [
      "Apple iPhone 7 32GB  ⚫⚪🟠😊🔴✅GSM Unlocked ✅AT&T✅T-Mobile⭐Excellent😀😀\n"
     ]
    }
   ],
   "source": [
    "#Tilte\n",
    "\n",
    "try:  \n",
    "    item_title = items.find('h3', class_='s-item__title').text\n",
    "except Exception as e:\n",
    "    item_title = 'None'\n",
    "print(item_title)"
   ]
  },
  {
   "cell_type": "code",
   "execution_count": 18,
   "metadata": {},
   "outputs": [
    {
     "name": "stdout",
     "output_type": "stream",
     "text": [
      "Pink\n"
     ]
    }
   ],
   "source": [
    "try:\n",
    "    item_colour = items.find('span', class_= \"s-item__dynamic s-item__dynamicAttributes2\").text.split(' ')[1] \n",
    "except Exception as e:\n",
    "    item_colour = 'None' \n",
    "print(item_colour)"
   ]
  },
  {
   "cell_type": "code",
   "execution_count": 19,
   "metadata": {},
   "outputs": [
    {
     "name": "stdout",
     "output_type": "stream",
     "text": [
      "None\n"
     ]
    }
   ],
   "source": [
    "# Description\n",
    "\n",
    "\n",
    "try:  \n",
    "    item_desc = items.find('div', class_='s-item__subtitle').text\n",
    "except Exception as e:\n",
    "    item_desc = 'None'\n",
    "print(item_desc)"
   ]
  },
  {
   "cell_type": "code",
   "execution_count": 20,
   "metadata": {},
   "outputs": [
    {
     "name": "stdout",
     "output_type": "stream",
     "text": [
      "Apple\n"
     ]
    }
   ],
   "source": [
    "#Brand\n",
    "\n",
    "\n",
    "try:\n",
    "    item_brand = items.find('span', class_='s-item__dynamic s-item__dynamicAttributes1').text.split(' ')[1]\n",
    "except Exception as e:\n",
    "    item_brand = 'None'\n",
    "print(item_brand)"
   ]
  },
  {
   "cell_type": "markdown",
   "metadata": {},
   "source": [
    "#Model\n",
    "\n",
    "try:\n",
    "    item_model = items.find('span', class_='s-item__dynamic s-item__dynamicAttributes2').text.split(' ')[1:]\n",
    "    item_model = ' '.join(item_model)\n",
    "except Exception as e:\n",
    "    item_model = 'None'\n",
    "print(item_model)"
   ]
  },
  {
   "cell_type": "code",
   "execution_count": 21,
   "metadata": {},
   "outputs": [
    {
     "name": "stdout",
     "output_type": "stream",
     "text": [
      "Apple iPhone 7\n"
     ]
    }
   ],
   "source": [
    "#Model\n",
    "\n",
    "try:  \n",
    "    item_model = items.find('h3', class_='s-item__title').text.split(' ')[:3]\n",
    "    item_model = ' '.join(item_model)\n",
    "except Exception as e:\n",
    "    item_title = 'None'\n",
    "print(item_model)"
   ]
  },
  {
   "cell_type": "code",
   "execution_count": 22,
   "metadata": {},
   "outputs": [
    {
     "name": "stdout",
     "output_type": "stream",
     "text": [
      "Bluetooth\n"
     ]
    }
   ],
   "source": [
    "#feature \n",
    "\n",
    "try:\n",
    "    item_features = items.find('span', class_='s-item__dynamic s-item__dynamicAttributes3').text.split(' ')[1]\n",
    "except Exception as e:\n",
    "    item_features = 'None'\n",
    "print(item_features)"
   ]
  },
  {
   "cell_type": "code",
   "execution_count": 23,
   "metadata": {},
   "outputs": [
    {
     "name": "stdout",
     "output_type": "stream",
     "text": [
      "None\n"
     ]
    }
   ],
   "source": [
    "#Item loaction \n",
    "\n",
    "try:  \n",
    "    item_origin = items.find('span', class_='s-item__location s-item__itemLocation').text\n",
    "    item_origin = re.sub('From ', '', item_origin)\n",
    "except Exception as e:\n",
    "    item_origin = 'None'\n",
    "print(item_origin)"
   ]
  },
  {
   "cell_type": "code",
   "execution_count": 24,
   "metadata": {},
   "outputs": [
    {
     "name": "stdout",
     "output_type": "stream",
     "text": [
      "INR 12,856.49\n"
     ]
    }
   ],
   "source": [
    "#PRICE \n",
    "\n",
    "try:\n",
    "    item_price = items.find('span', class_='s-item__price').text\n",
    "except Exception as e:\n",
    "    item_price = 'None'\n",
    "print(item_price)"
   ]
  },
  {
   "cell_type": "code",
   "execution_count": 25,
   "metadata": {},
   "outputs": [
    {
     "name": "stdout",
     "output_type": "stream",
     "text": [
      "INR 1,588.62\n"
     ]
    }
   ],
   "source": [
    "#SHIPPING \n",
    "\n",
    "try:\n",
    "    item_shipping = items.find('span', class_='s-item__shipping s-item__logisticsCost').text.split(' ')[:2]\n",
    "    item_shipping= ' '.join(item_shipping)\n",
    "except Exception as e:\n",
    "    item_shipping = 'None'\n",
    "print(item_shipping)"
   ]
  },
  {
   "cell_type": "code",
   "execution_count": 26,
   "metadata": {},
   "outputs": [
    {
     "name": "stdout",
     "output_type": "stream",
     "text": [
      "Top Rated Seller\n"
     ]
    }
   ],
   "source": [
    "#Top Seller\n",
    "\n",
    "try:\n",
    "    item_top_seller = items.find('span', class_='s-item__etrs-text').text\n",
    "except Exception as e:\n",
    "    item_top_seller = 'None'\n",
    "print(item_top_seller)"
   ]
  },
  {
   "cell_type": "code",
   "execution_count": 27,
   "metadata": {},
   "outputs": [
    {
     "name": "stdout",
     "output_type": "stream",
     "text": [
      "4.5\n"
     ]
    }
   ],
   "source": [
    "#RATING \n",
    "\n",
    "try:\n",
    "    item_stars = items.find('span', class_='clipped').text.split(' ')[0]\n",
    "except Exception as e:\n",
    "    item_stars = 'None'\n",
    "print(item_stars)"
   ]
  },
  {
   "cell_type": "code",
   "execution_count": 28,
   "metadata": {},
   "outputs": [
    {
     "name": "stdout",
     "output_type": "stream",
     "text": [
      "87\n"
     ]
    }
   ],
   "source": [
    "#NUMBER OF REVIEWS \n",
    "\n",
    "#aria-hidden=\"true\"\n",
    "#.text.split(' ')[0]\n",
    "try:\n",
    "    item_nreviews = items.find('span', class_='s-item__reviews-count').text.split(' ')[0]\n",
    "except Exception as e:\n",
    "    item_nreviews = 'None' \n",
    "print(item_nreviews)"
   ]
  },
  {
   "cell_type": "code",
   "execution_count": 29,
   "metadata": {},
   "outputs": [
    {
     "name": "stdout",
     "output_type": "stream",
     "text": [
      "0\n"
     ]
    }
   ],
   "source": [
    "#Quantity sold \n",
    "try:\n",
    "    item_qty_sold = items.find('span', class_='s-item__hotness s-item__itemHotness').text.split(' ')\n",
    "    if item_qty_sold[1] == 'sold':\n",
    "        item_qty_sold = item_qty_sold[0]\n",
    "    else:\n",
    "        item_qty_sold = 0\n",
    "except Exception as e:\n",
    "    item_qty_sold = 'None'\n",
    "\n",
    "print(item_qty_sold)"
   ]
  },
  {
   "cell_type": "code",
   "execution_count": 30,
   "metadata": {},
   "outputs": [
    {
     "name": "stdout",
     "output_type": "stream",
     "text": [
      "https://www.ebay.com/p/225217107?iid=233398869861&var=533301807199\n"
     ]
    }
   ],
   "source": [
    "#Item link\n",
    "\n",
    "\n",
    "try:\n",
    "    item_link = items.find('a', class_='s-item__link')['href']\n",
    "except Exception as e:\n",
    "    item_link = 'None'\n",
    "print(item_link)"
   ]
  },
  {
   "cell_type": "code",
   "execution_count": 31,
   "metadata": {},
   "outputs": [],
   "source": [
    "df = pd.DataFrame(columns = ['Title', 'description',\n",
    "                             'Brand', 'Model', 'Features', 'Origin', \n",
    "                             'Price', 'Shipping',\n",
    "                             'Top Seller','Stars', 'No. Of Reviews',\n",
    "                             'Qty Sold',  'Link'])"
   ]
  },
  {
   "cell_type": "code",
   "execution_count": 32,
   "metadata": {},
   "outputs": [
    {
     "data": {
      "text/html": [
       "<div>\n",
       "<style scoped>\n",
       "    .dataframe tbody tr th:only-of-type {\n",
       "        vertical-align: middle;\n",
       "    }\n",
       "\n",
       "    .dataframe tbody tr th {\n",
       "        vertical-align: top;\n",
       "    }\n",
       "\n",
       "    .dataframe thead th {\n",
       "        text-align: right;\n",
       "    }\n",
       "</style>\n",
       "<table border=\"1\" class=\"dataframe\">\n",
       "  <thead>\n",
       "    <tr style=\"text-align: right;\">\n",
       "      <th></th>\n",
       "      <th>Title</th>\n",
       "      <th>description</th>\n",
       "      <th>Brand</th>\n",
       "      <th>Model</th>\n",
       "      <th>Features</th>\n",
       "      <th>Origin</th>\n",
       "      <th>Price</th>\n",
       "      <th>Shipping</th>\n",
       "      <th>Top Seller</th>\n",
       "      <th>Stars</th>\n",
       "      <th>No. Of Reviews</th>\n",
       "      <th>Qty Sold</th>\n",
       "      <th>Link</th>\n",
       "    </tr>\n",
       "  </thead>\n",
       "  <tbody>\n",
       "  </tbody>\n",
       "</table>\n",
       "</div>"
      ],
      "text/plain": [
       "Empty DataFrame\n",
       "Columns: [Title, description, Brand, Model, Features, Origin, Price, Shipping, Top Seller, Stars, No. Of Reviews, Qty Sold, Link]\n",
       "Index: []"
      ]
     },
     "execution_count": 32,
     "metadata": {},
     "output_type": "execute_result"
    }
   ],
   "source": [
    "df"
   ]
  },
  {
   "cell_type": "code",
   "execution_count": 33,
   "metadata": {},
   "outputs": [],
   "source": [
    "    n=0\n",
    "    df.loc[n, 'Title'] = item_title\n",
    "    df.loc[n, 'description'] = item_desc\n",
    "    df.loc[n, 'Brand'] = item_brand\n",
    "    df.loc[n, 'Model'] = item_model\n",
    "    df.loc[n, 'Features'] = item_features\n",
    "    df.loc[n, 'Origin'] = item_origin\n",
    "    df.loc[n, 'Price'] = item_price\n",
    "    df.loc[n, 'Shipping'] = item_shipping\n",
    "    df.loc[n, 'Top Seller'] = item_top_seller\n",
    "    df.loc[n, 'Stars'] = item_stars\n",
    "    df.loc[n, 'No. Of Reviews'] = item_nreviews\n",
    "    df.loc[n, 'Qty Sold'] = item_qty_sold\n",
    "    df.loc[n, 'colour'] = item_colour\n",
    "    df.loc[n, 'Link'] = item_link    \n",
    "    n+=1"
   ]
  },
  {
   "cell_type": "code",
   "execution_count": 35,
   "metadata": {},
   "outputs": [
    {
     "data": {
      "text/html": [
       "<div>\n",
       "<style scoped>\n",
       "    .dataframe tbody tr th:only-of-type {\n",
       "        vertical-align: middle;\n",
       "    }\n",
       "\n",
       "    .dataframe tbody tr th {\n",
       "        vertical-align: top;\n",
       "    }\n",
       "\n",
       "    .dataframe thead th {\n",
       "        text-align: right;\n",
       "    }\n",
       "</style>\n",
       "<table border=\"1\" class=\"dataframe\">\n",
       "  <thead>\n",
       "    <tr style=\"text-align: right;\">\n",
       "      <th></th>\n",
       "      <th>Title</th>\n",
       "      <th>description</th>\n",
       "      <th>Brand</th>\n",
       "      <th>Model</th>\n",
       "      <th>Features</th>\n",
       "      <th>Origin</th>\n",
       "      <th>Price</th>\n",
       "      <th>Shipping</th>\n",
       "      <th>Top Seller</th>\n",
       "      <th>Stars</th>\n",
       "      <th>No. Of Reviews</th>\n",
       "      <th>Qty Sold</th>\n",
       "      <th>Link</th>\n",
       "      <th>colour</th>\n",
       "    </tr>\n",
       "  </thead>\n",
       "  <tbody>\n",
       "    <tr>\n",
       "      <td>0</td>\n",
       "      <td>Apple iPhone 7 32GB  ⚫⚪🟠😊🔴✅GSM Unlocked ✅AT&amp;T✅...</td>\n",
       "      <td>None</td>\n",
       "      <td>Apple</td>\n",
       "      <td>Apple iPhone 7</td>\n",
       "      <td>Bluetooth</td>\n",
       "      <td>None</td>\n",
       "      <td>INR 12,856.49</td>\n",
       "      <td>INR 1,588.62</td>\n",
       "      <td>Top Rated Seller</td>\n",
       "      <td>4.5</td>\n",
       "      <td>87</td>\n",
       "      <td>0</td>\n",
       "      <td>https://www.ebay.com/p/225217107?iid=233398869...</td>\n",
       "      <td>Pink</td>\n",
       "    </tr>\n",
       "  </tbody>\n",
       "</table>\n",
       "</div>"
      ],
      "text/plain": [
       "                                               Title description  Brand  \\\n",
       "0  Apple iPhone 7 32GB  ⚫⚪🟠😊🔴✅GSM Unlocked ✅AT&T✅...        None  Apple   \n",
       "\n",
       "            Model   Features Origin          Price      Shipping  \\\n",
       "0  Apple iPhone 7  Bluetooth   None  INR 12,856.49  INR 1,588.62   \n",
       "\n",
       "         Top Seller Stars No. Of Reviews Qty Sold  \\\n",
       "0  Top Rated Seller   4.5             87        0   \n",
       "\n",
       "                                                Link colour  \n",
       "0  https://www.ebay.com/p/225217107?iid=233398869...   Pink  "
      ]
     },
     "execution_count": 35,
     "metadata": {},
     "output_type": "execute_result"
    }
   ],
   "source": [
    "df"
   ]
  },
  {
   "cell_type": "code",
   "execution_count": null,
   "metadata": {},
   "outputs": [],
   "source": []
  }
 ],
 "metadata": {
  "kernelspec": {
   "display_name": "Python 3",
   "language": "python",
   "name": "python3"
  },
  "language_info": {
   "codemirror_mode": {
    "name": "ipython",
    "version": 3
   },
   "file_extension": ".py",
   "mimetype": "text/x-python",
   "name": "python",
   "nbconvert_exporter": "python",
   "pygments_lexer": "ipython3",
   "version": "3.7.4"
  }
 },
 "nbformat": 4,
 "nbformat_minor": 2
}
